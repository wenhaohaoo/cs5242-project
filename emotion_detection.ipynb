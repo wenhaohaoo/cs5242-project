{
 "cells": [
  {
   "cell_type": "code",
   "execution_count": 51,
   "id": "4f365c88",
   "metadata": {},
   "outputs": [],
   "source": [
    "import os\n",
    "import numpy as np\n",
    "import pandas as pd"
   ]
  },
  {
   "cell_type": "markdown",
   "id": "aad6fd11",
   "metadata": {},
   "source": [
    "# Dataset Collection\n",
    "Assignee: \n",
    "+ Wen Hao: Build scraper module to gather images of faces\n",
    "+ Gin, Xiaoxin: Data cleaning. Remove images with inaccuracy label manually.\n",
    "\n",
    "Description:"
   ]
  },
  {
   "cell_type": "code",
   "execution_count": null,
   "id": "fdf88d8a",
   "metadata": {},
   "outputs": [],
   "source": []
  },
  {
   "cell_type": "markdown",
   "id": "21799b65",
   "metadata": {},
   "source": [
    "# Data Pre-processing\n",
    "Assignee: Wen Hao\n",
    "\n",
    "Description: Pre-process the images gathered. Standard image size, grayscale, etc."
   ]
  },
  {
   "cell_type": "code",
   "execution_count": null,
   "id": "1088ffc3",
   "metadata": {},
   "outputs": [],
   "source": []
  },
  {
   "cell_type": "markdown",
   "id": "3b447ec6",
   "metadata": {},
   "source": [
    "# Data Exploration\n",
    "Assignee: Gin, Xiaoxin"
   ]
  },
  {
   "cell_type": "code",
   "execution_count": 72,
   "id": "26f0a279",
   "metadata": {},
   "outputs": [
    {
     "data": {
      "text/html": [
       "<div>\n",
       "<style scoped>\n",
       "    .dataframe tbody tr th:only-of-type {\n",
       "        vertical-align: middle;\n",
       "    }\n",
       "\n",
       "    .dataframe tbody tr th {\n",
       "        vertical-align: top;\n",
       "    }\n",
       "\n",
       "    .dataframe thead th {\n",
       "        text-align: right;\n",
       "    }\n",
       "</style>\n",
       "<table border=\"1\" class=\"dataframe\">\n",
       "  <thead>\n",
       "    <tr style=\"text-align: right;\">\n",
       "      <th></th>\n",
       "      <th>category</th>\n",
       "      <th># of sample</th>\n",
       "    </tr>\n",
       "  </thead>\n",
       "  <tbody>\n",
       "    <tr>\n",
       "      <th>0</th>\n",
       "      <td>neutral man face</td>\n",
       "      <td>241</td>\n",
       "    </tr>\n",
       "    <tr>\n",
       "      <th>1</th>\n",
       "      <td>sad woman face</td>\n",
       "      <td>848</td>\n",
       "    </tr>\n",
       "    <tr>\n",
       "      <th>2</th>\n",
       "      <td>angry woman face</td>\n",
       "      <td>753</td>\n",
       "    </tr>\n",
       "    <tr>\n",
       "      <th>3</th>\n",
       "      <td>disgusted woman face</td>\n",
       "      <td>746</td>\n",
       "    </tr>\n",
       "    <tr>\n",
       "      <th>4</th>\n",
       "      <td>happy man face</td>\n",
       "      <td>192</td>\n",
       "    </tr>\n",
       "    <tr>\n",
       "      <th>5</th>\n",
       "      <td>surprised woman face</td>\n",
       "      <td>851</td>\n",
       "    </tr>\n",
       "    <tr>\n",
       "      <th>6</th>\n",
       "      <td>sad man face</td>\n",
       "      <td>359</td>\n",
       "    </tr>\n",
       "    <tr>\n",
       "      <th>7</th>\n",
       "      <td>scared man face</td>\n",
       "      <td>394</td>\n",
       "    </tr>\n",
       "    <tr>\n",
       "      <th>8</th>\n",
       "      <td>angry man face</td>\n",
       "      <td>331</td>\n",
       "    </tr>\n",
       "    <tr>\n",
       "      <th>9</th>\n",
       "      <td>disgusted man face</td>\n",
       "      <td>514</td>\n",
       "    </tr>\n",
       "    <tr>\n",
       "      <th>10</th>\n",
       "      <td>scared woman face</td>\n",
       "      <td>825</td>\n",
       "    </tr>\n",
       "    <tr>\n",
       "      <th>11</th>\n",
       "      <td>happy woman face</td>\n",
       "      <td>921</td>\n",
       "    </tr>\n",
       "    <tr>\n",
       "      <th>12</th>\n",
       "      <td>neutral woman face</td>\n",
       "      <td>628</td>\n",
       "    </tr>\n",
       "    <tr>\n",
       "      <th>13</th>\n",
       "      <td>surprised man face</td>\n",
       "      <td>378</td>\n",
       "    </tr>\n",
       "  </tbody>\n",
       "</table>\n",
       "</div>"
      ],
      "text/plain": [
       "                category  # of sample\n",
       "0       neutral man face          241\n",
       "1         sad woman face          848\n",
       "2       angry woman face          753\n",
       "3   disgusted woman face          746\n",
       "4         happy man face          192\n",
       "5   surprised woman face          851\n",
       "6           sad man face          359\n",
       "7        scared man face          394\n",
       "8         angry man face          331\n",
       "9     disgusted man face          514\n",
       "10     scared woman face          825\n",
       "11      happy woman face          921\n",
       "12    neutral woman face          628\n",
       "13    surprised man face          378"
      ]
     },
     "execution_count": 72,
     "metadata": {},
     "output_type": "execute_result"
    }
   ],
   "source": [
    "IMAGE_FOLDER = # replace it with your own path\n",
    "\n",
    "totalImages = {}\n",
    "for subfolder in os.listdir(IMAGE_FOLDER):\n",
    "    dir = IMAGE_FOLDER + '/' + subfolder\n",
    "    if os.path.isdir(dir):\n",
    "        totalImages[subfolder] = len(os.listdir(dir))\n",
    "\n",
    "pd.DataFrame(totalImages.items(), columns = ['category', '# of sample'])"
   ]
  },
  {
   "cell_type": "code",
   "execution_count": 73,
   "id": "4080d761",
   "metadata": {},
   "outputs": [
    {
     "name": "stdout",
     "output_type": "stream",
     "text": [
      "7981 files in total.\n"
     ]
    }
   ],
   "source": [
    "print(sum(totalImages.values()), \"files in total.\")"
   ]
  },
  {
   "cell_type": "markdown",
   "id": "ac52f8d9",
   "metadata": {},
   "source": [
    "# Model Development, Improvement & Evaluation"
   ]
  },
  {
   "cell_type": "code",
   "execution_count": null,
   "id": "dfb2fdd0",
   "metadata": {},
   "outputs": [],
   "source": []
  }
 ],
 "metadata": {
  "kernelspec": {
   "display_name": "Python 3",
   "language": "python",
   "name": "python3"
  },
  "language_info": {
   "codemirror_mode": {
    "name": "ipython",
    "version": 3
   },
   "file_extension": ".py",
   "mimetype": "text/x-python",
   "name": "python",
   "nbconvert_exporter": "python",
   "pygments_lexer": "ipython3",
   "version": "3.7.10"
  }
 },
 "nbformat": 4,
 "nbformat_minor": 5
}
